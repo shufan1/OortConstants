{
 "cells": [
  {
   "cell_type": "code",
   "execution_count": 9,
   "metadata": {},
   "outputs": [],
   "source": [
    "from astropy.coordinates import SkyCoord, Galactocentric, Galactic\n",
    "import astropy.units as u\n",
    "from astropy.io import fits\n",
    "import numpy as np\n",
    "import matplotlib.pyplot as plt\n",
    "from scipy.optimize import curve_fit,minimize\n",
    "import emcee\n",
    "import corner\n",
    "star_list = fits.open(\"near_Sun_stars_08.fits\")#,memmap=True)\n",
    "# print(star_list[1].columns)\n",
    "data=star_list[1].data\n",
    "l_list = data['l']\n",
    "ra_i=data['ra']*u.deg\n",
    "dec_i=data['dec']*u.deg\n",
    "distance_i=1/data['parallax']*u.kpc\n",
    "# define Skycoord \n",
    "skycoords = SkyCoord(ra =ra_i, dec = dec_i,\\\n",
    "                     pm_ra_cosdec=data['pmra']*u.mas/u.yr, pm_dec=data['pmdec']*u.mas/u.yr, \\\n",
    "                      radial_velocity=data['radial_velocity']*u.km/u.s, \\\n",
    "                     frame='icrs')"
   ]
  },
  {
   "cell_type": "code",
   "execution_count": 17,
   "metadata": {},
   "outputs": [
    {
     "name": "stdout",
     "output_type": "stream",
     "text": [
      "[1.5892938  0.03542032 0.04819077 0.05894655 0.07123122 0.03412306\n",
      " 0.06807578 0.05169063 0.08214416 0.06118468]\n"
     ]
    }
   ],
   "source": [
    "pmra = data['pmra']\n",
    "pmdec = data['pmdec']\n",
    "pmra_error = data['pmra_error']\n",
    "pmdec_error = data['pmdec_error']\n",
    "ra = data['ra']\n",
    "dec = data['dec']\n",
    "alphaG = np.radians(192.85948)\n",
    "deltaG = np.radians(27.12825)\n",
    "lNGP = np.radians(122.93192)\n",
    "\n",
    "C1 = np.sin(deltaG)*np.cos(np.radians(dec))-np.cos(deltaG)*np.sin(np.radians(dec))*np.cos(np.radians(ra)-alphaG)\n",
    "C2 = np.cos(deltaG)*np.sin(np.radians(ra)-alphaG)\n",
    "cosb = 1/np.sqrt(C1**2+C2**2)\n",
    "pm_l = 1/cosb*(C1*pmra+C2*pmdec)\n",
    "pm_l_error = 1/cosb*(C1*pmra_error+C2*pmdec_error)\n",
    "pm_l_error = pm_l_error*4.74047#/ u.mas * u.yr \n",
    "# convert to km s-1 kpc-1, and make it unitless\n",
    "print(pm_l_error[:10])"
   ]
  },
  {
   "cell_type": "code",
   "execution_count": 15,
   "metadata": {},
   "outputs": [
    {
     "name": "stdout",
     "output_type": "stream",
     "text": [
      "306872\n"
     ]
    }
   ],
   "source": [
    "l_bin = np.arange(0,361,1)\n",
    "sample_n = len(data['l'])                                         \n",
    "error_binned = [[] for _ in range(360)]\n",
    "for i in np.arange(0,sample_n,1):\n",
    "    l = l_list[i]\n",
    "    for j in l_bin:\n",
    "        if l >= l_bin[j] and l < l_bin[j+1]:\n",
    "#             print(miu_l_corrected[i]/u.km*u.s*u.kpc)\n",
    "            error_binned[j].append(pm_l_error[i])\n",
    "print(i)"
   ]
  },
  {
   "cell_type": "code",
   "execution_count": 16,
   "metadata": {},
   "outputs": [
    {
     "name": "stdout",
     "output_type": "stream",
     "text": [
      "[0.7239787016538144, 0.7381434967481327, 0.6994645958872041, 0.6664861082116326, 0.6249150124143048]\n"
     ]
    }
   ],
   "source": [
    "binned_mean_error = list(map(lambda i: np.mean(i), error_binned))\n",
    "\n",
    "print(binned_mean_error[:5])"
   ]
  }
 ],
 "metadata": {
  "kernelspec": {
   "display_name": "anaconda3-python",
   "language": "python",
   "name": "anaconda3-python"
  },
  "language_info": {
   "codemirror_mode": {
    "name": "ipython",
    "version": 3
   },
   "file_extension": ".py",
   "mimetype": "text/x-python",
   "name": "python",
   "nbconvert_exporter": "python",
   "pygments_lexer": "ipython3",
   "version": "3.7.6"
  }
 },
 "nbformat": 4,
 "nbformat_minor": 2
}
