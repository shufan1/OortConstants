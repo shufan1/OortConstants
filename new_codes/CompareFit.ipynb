{
 "cells": [
  {
   "cell_type": "code",
   "execution_count": 2,
   "metadata": {},
   "outputs": [],
   "source": [
    "from astropy.coordinates import SkyCoord, Galactocentric, Galactic\n",
    "import astropy.units as u\n",
    "from astropy.io import fits\n",
    "from astropy.table import Table\n",
    "import numpy as np\n",
    "import matplotlib.pyplot as plt\n",
    "from scipy.optimize import curve_fit\n",
    "from scipy import stats\n",
    "from scipy.optimize import minimize\n",
    "import pandas as pd\n",
    "\n",
    "plt.rc('font',family='serif')\n",
    "plt.rc('text',usetex=True)"
   ]
  },
  {
   "cell_type": "code",
   "execution_count": 3,
   "metadata": {},
   "outputs": [
    {
     "name": "stdout",
     "output_type": "stream",
     "text": [
      "6158038\n",
      "12899067\n"
     ]
    }
   ],
   "source": [
    "mainSeqStars = fits.open(\"fits_table/new_full_data.fits\") #,memmap=True)\n",
    "MSSdata = mainSeqStars[1].data\n",
    "newMSSdata = MSSdata.newbyteorder().byteswap()  \n",
    "df = pd.DataFrame(newMSSdata)\n",
    "MainSeqQuery = df.query('MainSeqStar == True')\n",
    "print(len(MainSeqQuery))\n",
    "print(len(MSSdata))\n",
    "\n",
    "# select a sub group\n",
    "# df = df.query(\"bp_rp-e_bp_min_rp_val < 0.8\") #& bp_rp-e_bp_min_rp_val <1.2\")\n",
    "# df = df.query(\"bp_rp-e_bp_min_rp_val >=0.8 & bp_rp-e_bp_min_rp_val <1.2\")\n",
    "df = df.query(\"bp_rp-e_bp_min_rp_val >=1.2 & bp_rp-e_bp_min_rp_val <1.6\")"
   ]
  },
  {
   "cell_type": "code",
   "execution_count": 4,
   "metadata": {},
   "outputs": [],
   "source": [
    "## solar velocity 1.2-1.6\n",
    "u0 = 10.07#*u.km/u.s #km*s-1\n",
    "v0 = 25.14#*u.km/u.s #km*s-1\n",
    "w0 = 7.92#*u.km/u.s"
   ]
  },
  {
   "cell_type": "markdown",
   "metadata": {},
   "source": [
    "## find $\\Delta \\mu_l$"
   ]
  },
  {
   "cell_type": "code",
   "execution_count": 5,
   "metadata": {},
   "outputs": [
    {
     "name": "stdout",
     "output_type": "stream",
     "text": [
      "584908\n",
      "584908\n"
     ]
    }
   ],
   "source": [
    "data = df.query(\"b>-20 & b<20\")\n",
    "print(len(data))\n",
    "l = np.array(data['l'])\n",
    "b = np.array(data['b'])\n",
    "ra = np.array(data['ra'])#*u.deg)\n",
    "dec = np.array(data['dec'])#*u.deg)\n",
    "pm_ra_cosdec = np.array(data['pmra'])#*u.mas/u.yr)\n",
    "pm_dec = np.array(data['pmdec'])#*u.mas/u.yr)\n",
    "radial_velocity = np.array(data['radial_velocity'])#*u.km/u.s)\n",
    "parallax = np.array(data['parallax'])\n",
    "\n",
    "# define Skycoord \n",
    "skycoords = SkyCoord(ra =ra*u.deg, dec = dec*u.deg,\\\n",
    "                     pm_ra_cosdec=pm_ra_cosdec*u.mas/u.yr, pm_dec=pm_dec*u.mas/u.yr, \\\n",
    "                     frame='icrs')\n",
    "\n",
    "galcen = skycoords.transform_to(Galactic) #convert to Galactic coord\n",
    "\n",
    "mu_b = galcen.pm_b * 4.74047 / u.mas * u.yr#units of from mas yr-1 to units of km s-1 kpc-1 \n",
    "mu_l = galcen.pm_l_cosb * 4.74047 / u.mas * u.yr# * u.km/ u.s / u.kpc#convert from units of from mas yr-1 to units of km s-1 kpc-1\n",
    "\n",
    "distance=np.array(1/data['parallax'])#*u.kpc)\n",
    "\n",
    "print(len(mu_l))\n",
    "\n",
    "mu_l_corrected = 1/np.cos(np.radians(b))*(mu_l-parallax*(u0*np.sin(np.radians(l))-v0*np.cos(np.radians(l))))"
   ]
  },
  {
   "cell_type": "code",
   "execution_count": 7,
   "metadata": {},
   "outputs": [],
   "source": [
    "# sort mu_l into l intevral of 1 degree\n",
    "q_df_data = {'l':data['l'],\n",
    "            'mu_l': mu_l_corrected}\n",
    "q_df = pd.DataFrame(q_df_data,columns=['l','mu_l'])\n",
    "l_bin = np.arange(0,361,1)\n",
    "binned = [[] for _ in range(360)]\n",
    "for j in np.arange(0,360,1):\n",
    "    qstr = 'l >= %f & l<%f'%(l_bin[j],l_bin[j+1])\n",
    "    binned[j] = q_df.query(qstr)['mu_l']\n",
    "    \n",
    "delta_mu_l_mean = list(map(lambda i: np.mean(i), binned))\n",
    "xdata = np.arange(0,360,1)\n",
    "ydata = delta_mu_l_mean"
   ]
  },
  {
   "cell_type": "markdown",
   "metadata": {},
   "source": [
    "### compare: using how many data to fit the function:\n",
    "\n",
    "maximiz likelihood fitting method and compare likelihood"
   ]
  },
  {
   "cell_type": "code",
   "execution_count": 8,
   "metadata": {},
   "outputs": [],
   "source": [
    "def mu_l_func(l,A,B,C):\n",
    "    return A*np.cos(np.radians(2*l))-C*np.sin(np.radians(2*l))+B"
   ]
  },
  {
   "cell_type": "code",
   "execution_count": 9,
   "metadata": {},
   "outputs": [],
   "source": [
    "def predict_func(params):\n",
    "    A = params[0]\n",
    "    B = params[1]\n",
    "    C = params[2]\n",
    "    sd = params[3]\n",
    "    \n",
    "    yPred = A*np.cos(np.radians(2*x)) - C*np.sin(np.radians(2*x))+B\n",
    "    \n",
    "    # log-likely function\n",
    "    LL = - np.sum(stats.norm.logpdf(y,loc=yPred,scale=sd))\n",
    "#     print(-1*LL)\n",
    "    return LL\n",
    "\n",
    "initParams = [15,-11,-3,1]\n",
    "\n",
    "def fit(func, guess):\n",
    "    soln = minimize(func, guess, method = 'Nelder-Mead') \n",
    "    return soln.x "
   ]
  },
  {
   "cell_type": "markdown",
   "metadata": {},
   "source": [
    "##### using all 360 pairs of (l, mu_l):"
   ]
  },
  {
   "cell_type": "code",
   "execution_count": 11,
   "metadata": {},
   "outputs": [
    {
     "name": "stdout",
     "output_type": "stream",
     "text": [
      "minimize this negative ln Likelihood:  1157.65408074901\n",
      "A,B,C:  15.798809995462676 -12.488655909289008 -2.8033771194384856\n"
     ]
    }
   ],
   "source": [
    "x = xdata\n",
    "y = ydata\n",
    "\n",
    "A,B,C,std = fit(predict_func,initParams)\n",
    "params1 = [A,B,C,std]\n",
    "LL1 = predict_func(params1)\n",
    "print(\"minimize this negative ln Likelihood: \",LL1)\n",
    "print(\"A,B,C: \",A,B,C)\n",
    "xfit = np.linspace(0,360,361)\n",
    "popt1 = params1[:3]\n",
    "yPred1 = mu_l_func(xfit,*popt1)"
   ]
  },
  {
   "cell_type": "markdown",
   "metadata": {},
   "source": [
    "##### Using 10 data points"
   ]
  },
  {
   "cell_type": "code",
   "execution_count": 13,
   "metadata": {},
   "outputs": [
    {
     "name": "stdout",
     "output_type": "stream",
     "text": [
      "minimize this negative ln Likelihood:  29.230649711210003\n",
      "A,B,C:  15.124995331006978 -10.792703899456642 -0.9647062751198721\n"
     ]
    }
   ],
   "source": [
    "x = xdata[::36]\n",
    "y = ydata[::36]\n",
    "\n",
    "A,B,C,std = fit(predict_func,initParams)\n",
    "params2 = [A,B,C,std]\n",
    "LL2 = predict_func(params2)\n",
    "print(\"minimize this negative ln Likelihood: \",LL2)\n",
    "print(\"A,B,C: \",A,B,C)\n",
    "\n",
    "xfit = np.linspace(0,360,361)\n",
    "popt2 = params2[:3]\n",
    "yPred2 = mu_l_func(xfit,*popt2)"
   ]
  },
  {
   "cell_type": "markdown",
   "metadata": {},
   "source": [
    "#### Compare fitting results"
   ]
  },
  {
   "cell_type": "code",
   "execution_count": 14,
   "metadata": {},
   "outputs": [
    {
     "name": "stdout",
     "output_type": "stream",
     "text": [
      "minimized lnL:  1157.65408074901  > 29.230649711210003\n",
      "using 360 points:  [15.798809995462676, -12.488655909289008, -2.8033771194384856]\n",
      "using 10 points like Li:  [15.124995331006978, -10.792703899456642, -0.9647062751198721]\n"
     ]
    },
    {
     "data": {
      "image/png": "[encoded data removed]",
      "text/plain": [
       "<Figure size 1008x360 with 2 Axes>"
      ]
     },
     "metadata": {
      "needs_background": "light"
     },
     "output_type": "display_data"
    }
   ],
   "source": [
    "f,ax = plt.subplots(1,2,figsize=(14,5))\n",
    "ax[0].plot(xdata,ydata,'k.',markersize=3,label=\"binned$<\\mu_l>$\")\n",
    "ax[0].plot(xfit,yPred1,'-',label=\"fit\")\n",
    "plt.ylim(-40,20)\n",
    "ax[0].set_title(\"$1.2\\\\leq G_{BP}-G_{RP}-E(BP-RP)<1.6$\",fontsize=15)\n",
    "ax[0].set_xlabel(\"$l$\",fontsize=15)\n",
    "ax[0].set_ylabel('$\\Delta \\mu _l(kms^{-1}kpc^{-1})$',fontsize=15)\n",
    "\n",
    "\n",
    "plt.subplot(1,2,2)\n",
    "plt.plot(xdata[::36],ydata[::36],'k.',markersize=3,label=\"binned$<\\mu_l>$\")\n",
    "plt.plot(xfit,yPred2,'-',label=\"fit\")\n",
    "plt.ylim(-40,20)\n",
    "plt.title(\"$1.2\\\\leq G_{BP}-G_{RP}-E(BP-RP)<1.6$\",fontsize=15)\n",
    "plt.xlabel(\"$l$\",fontsize=15)\n",
    "plt.ylabel('$\\Delta \\mu _l(kms^{-1}kpc^{-1})$',fontsize=15)\n",
    "plt.savefig('plot/compare_fit.png')\n",
    "print(\"minimized lnL: \",LL1, \" >\", LL2)\n",
    "print(\"using 360 points: \", params1[:3])\n",
    "print(\"using 10 points like Li: \", params2[:3])"
   ]
  }
 ],
 "metadata": {
  "kernelspec": {
   "display_name": "anaconda3-python",
   "language": "python",
   "name": "anaconda3-python"
  },
  "language_info": {
   "codemirror_mode": {
    "name": "ipython",
    "version": 3
   },
   "file_extension": ".py",
   "mimetype": "text/x-python",
   "name": "python",
   "nbconvert_exporter": "python",
   "pygments_lexer": "ipython3",
   "version": "3.7.6"
  }
 },
 "nbformat": 4,
 "nbformat_minor": 2
}
