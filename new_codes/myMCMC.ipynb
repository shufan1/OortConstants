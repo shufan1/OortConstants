{
 "cells": [
  {
   "cell_type": "code",
   "execution_count": 15,
   "metadata": {},
   "outputs": [],
   "source": [
    "import numpy as np\n",
    "import matplotlib.pyplot as plt"
   ]
  },
  {
   "cell_type": "code",
   "execution_count": 16,
   "metadata": {},
   "outputs": [],
   "source": [
    "N = np.arange(1,11,1)\n",
    "K = list(map(lambda n: np.random.random(4**n), N))\n",
    "mean = list(map(lambda k: np.mean(k),K))"
   ]
  },
  {
   "cell_type": "code",
   "execution_count": 30,
   "metadata": {},
   "outputs": [],
   "source": [
    "# define stationary dis\n",
    "def p(x):\n",
    "    p = np.exp(-(x-2)**2/(2*2))\n",
    "    return p\n",
    "\n",
    "# proposal\n",
    "def q(x,xp):\n",
    "    q = np.exp(-(xp-x)**2/(2*1))\n",
    "    return q\n",
    "\n",
    "X = [0]\n",
    "xini=0\n",
    "x_curr = xini\n",
    "\n",
    "for i in np.arange(0,10000,1):\n",
    "    x_new = np.random.normal(x_curr,1)\n",
    "    px_curr = p(x_curr)\n",
    "    px_new = p(x_new)\n",
    "    r =  np.random.random()\n",
    "    if px_new/px_curr>r:\n",
    "        X.append(x_new)\n",
    "        x_curr = x_new\n",
    "    else:\n",
    "        X.append(x_curr)"
   ]
  },
  {
   "cell_type": "code",
   "execution_count": 31,
   "metadata": {},
   "outputs": [
    {
     "data": {
      "text/plain": [
       "(array([  38.,  257.,  802., 1714., 2552., 2390., 1479.,  564.,  182.,\n",
       "          23.]),\n",
       " array([-2.57093751, -1.6303524 , -0.68976729,  0.25081782,  1.19140292,\n",
       "         2.13198803,  3.07257314,  4.01315825,  4.95374335,  5.89432846,\n",
       "         6.83491357]),\n",
       " <a list of 10 Patch objects>)"
      ]
     },
     "execution_count": 31,
     "metadata": {},
     "output_type": "execute_result"
    },
    {
     "data": {
      "image/png": "[encoded data removed]",
      "text/plain": [
       "<Figure size 432x288 with 1 Axes>"
      ]
     },
     "metadata": {
      "needs_background": "light"
     },
     "output_type": "display_data"
    }
   ],
   "source": [
    "plt.hist(X)"
   ]
  }
 ],
 "metadata": {
  "kernelspec": {
   "display_name": "anaconda3-python",
   "language": "python",
   "name": "anaconda3-python"
  },
  "language_info": {
   "codemirror_mode": {
    "name": "ipython",
    "version": 3
   },
   "file_extension": ".py",
   "mimetype": "text/x-python",
   "name": "python",
   "nbconvert_exporter": "python",
   "pygments_lexer": "ipython3",
   "version": "3.7.6"
  }
 },
 "nbformat": 4,
 "nbformat_minor": 2
}
